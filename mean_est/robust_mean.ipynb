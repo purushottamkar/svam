{
 "cells": [
  {
   "cell_type": "code",
   "execution_count": 1,
   "metadata": {},
   "outputs": [],
   "source": [
    "import numpy as np\n",
    "import matplotlib.pyplot as plt\n",
    "import time\n",
    "import numpy as np\n",
    "from scipy.spatial.distance import cdist, euclidean\n",
    "from sklearn.base import BaseEstimator\n",
    "from sklearn.model_selection import ShuffleSplit\n",
    "from sklearn.model_selection import GridSearchCV"
   ]
  },
  {
   "cell_type": "code",
   "execution_count": 2,
   "metadata": {},
   "outputs": [],
   "source": [
    "def HT(a,k):\n",
    "    t=np.zeros(a.shape)\n",
    "    if k==0:\n",
    "        return t\n",
    "    else:\n",
    "        ind=np.argpartition(abs(a),-k, axis=None)[-k:]    \n",
    "        t[ind]=a[ind]\n",
    "    return t\n",
    "\n",
    "class SVAM_ME(BaseEstimator):\n",
    "# w_star is used only to plot convergence curves and not tune the method or decide stopping criterion in any way\n",
    "    def __init__( self, alpha=0, beta_init = 0.01 , eta = 1.1, mu_init = None, mu_star = None ):\n",
    "        self.eta = eta\n",
    "        self.alpha = alpha\n",
    "        self.beta_init = beta_init\n",
    "        self.mu_init = mu_init\n",
    "        self.mu_star = mu_star\n",
    "\n",
    "    def fit( self, X, beta_max=1, max_iter = 25):\n",
    "        n,d = X.shape\n",
    "        self.mu=self.mu_init\n",
    "        beta = self.beta_init\n",
    "        self.l2=[]\n",
    "        self.clock=[]\n",
    "        \n",
    "        start_time=time.time()\n",
    "        for i in range(max_iter):\n",
    "            s=np.exp(-beta*np.power(np.linalg.norm(X-self.mu,ord=2,axis=1),2))\n",
    "            s=s/sum(s)\n",
    "            self.mu=np.dot(s.reshape((1,n)),X)\n",
    "            beta=min(beta_max,self.eta*beta)\n",
    "\n",
    "            self.l2.append(np.linalg.norm(self.mu-mu_star))\n",
    "            self.clock.append(time.time()-start_time)\n",
    "        return self\n",
    "\n",
    "    def predict( self, X ):\n",
    "        return self.mu\n",
    "    \n",
    "    def score( self, X):\n",
    "        n_test = X.shape[0]\n",
    "        n_test_corr = int( self.alpha * n_test )\n",
    "        dist = np.linalg.norm(X - self.mu, axis=1)\n",
    "        dist_corr = HT( dist, n_test_corr )\n",
    "        return -np.linalg.norm( dist - dist_corr, 2) / np.sqrt( n_test - n_test_corr )    "
   ]
  },
  {
   "cell_type": "code",
   "execution_count": 3,
   "metadata": {},
   "outputs": [
    {
     "name": "stdout",
     "output_type": "stream",
     "text": [
      "Differecen in means:  2.449489742783178\n"
     ]
    }
   ],
   "source": [
    "n=1000\n",
    "d=100\n",
    "alpha=0.4\n",
    "\n",
    "mu_star= np.random.normal(0,1, (1, d))\n",
    "mu_star= np.sqrt(2)*mu_star/np.linalg.norm(mu_star)\n",
    "mu_star=np.zeros((1,d))\n",
    "\n",
    "mu_adv= np.random.normal(0,1, (1, d))\n",
    "mu_adv= np.sqrt(6)*mu_adv/np.linalg.norm(mu_adv)\n",
    "\n",
    "print('Differecen in means: ',np.linalg.norm(mu_star-mu_adv))\n",
    "n_corr  = int(alpha*n)\n",
    "\n",
    "Idx= np.random.permutation(n)\n",
    "corrIdx= np.sort(Idx[0:n_corr])\n",
    "cleanIdx=np.sort(Idx[n_corr:n])\n",
    "\n",
    "X = np.random.normal(0,1,(n,d))/np.sqrt(d)\n",
    "X[cleanIdx,:]= X[cleanIdx,:]+mu_star\n",
    "X[corrIdx,:]= X[corrIdx,:]+mu_adv\n"
   ]
  },
  {
   "cell_type": "code",
   "execution_count": 4,
   "metadata": {},
   "outputs": [
    {
     "name": "stdout",
     "output_type": "stream",
     "text": [
      "VAM: 0.1, l2=0.8867, time=0.0187\n",
      "VAM: 0.5, l2=1.9693, time=0.0101\n",
      "VAM: 0.9, l2=2.4336, time=0.0095\n",
      "mean:  0.9825046522304538\n",
      "clean mean:  0.040973600335319695\n",
      "Co-ordinatewise median:  0.6792921310882948\n"
     ]
    }
   ],
   "source": [
    "mu_init=mu_adv\n",
    "\n",
    "max_iter=25\n",
    "n_exp=1\n",
    "n_algo=4\n",
    "\n",
    "betas=[0.1,0.5,0.9]\n",
    "beta_max=1\n",
    "\n",
    "l2_vam=np.zeros(shape=(len(betas),max_iter))\n",
    "clock_vam=np.zeros(shape=(len(betas),max_iter))\n",
    "\n",
    "#-------------VAM-RM----------------#\n",
    "\n",
    "step_beta=1    \n",
    "\n",
    "vam=SVAM_ME( eta = 1, alpha = alpha, beta_init = betas[0], mu_init = mu_adv, mu_star = mu_star )\n",
    "vam.fit( X, max_iter=25)\n",
    "l2_vam[0,:] = vam.l2\n",
    "clock_vam[0,:] = vam.clock\n",
    "\n",
    "vam=SVAM_ME( eta = 1, alpha = alpha, beta_init = betas[1], mu_init = mu_adv, mu_star = mu_star )\n",
    "vam.fit( X, max_iter=25)\n",
    "l2_vam[1,:] = vam.l2\n",
    "clock_vam[1,:] = vam.clock\n",
    "\n",
    "vam=SVAM_ME( eta = 1, alpha = alpha, beta_init = betas[2], mu_init = mu_adv, mu_star = mu_star )\n",
    "vam.fit( X, max_iter=25)\n",
    "l2_vam[2,:] = vam.l2\n",
    "clock_vam[2,:] = vam.clock\n",
    "\n",
    "\n",
    "print(f'VAM: {betas[0]}, l2={l2_vam[0,-1]:.4f}, time={clock_vam[0,-1]:.4f}')\n",
    "print(f'VAM: {betas[1]}, l2={l2_vam[1,-1]:.4f}, time={clock_vam[1,-1]:.4f}')\n",
    "print(f'VAM: {betas[2]}, l2={l2_vam[2,-1]:.4f}, time={clock_vam[2,-1]:.4f}')\n",
    "\n",
    "\n",
    "\n",
    "#------------Simple Mean Estimation-------------#\n",
    "start=time.time()\n",
    "l2_sm=np.linalg.norm(np.mean(X,axis=0)-mu_star)\n",
    "clock_sm=time.time()-start\n",
    "print('mean: ', l2_sm)\n",
    "\n",
    "#---------------Oracle-------------#\n",
    "start=time.time()\n",
    "l2_oracle=np.linalg.norm(np.mean(X[cleanIdx,:],axis=0)-mu_star)\n",
    "clock_oracle=time.time()-start\n",
    "print('clean mean: ', l2_oracle)\n",
    "\n",
    "#---------------Co-ordinate-wise Median-------------#\n",
    "start=time.time()\n",
    "l2_cm=np.linalg.norm(np.median(X,axis=0)-mu_star)\n",
    "clock_cm=time.time()-start\n",
    "print('Co-ordinatewise median: ', l2_cm)"
   ]
  },
  {
   "cell_type": "code",
   "execution_count": 5,
   "metadata": {},
   "outputs": [
    {
     "name": "stdout",
     "output_type": "stream",
     "text": [
      "The best parameters for SVAM are {'alpha': np.float64(0.4), 'beta_init': np.float64(0.01), 'eta': np.float64(1.9594999999999998)} with a score of -1.14\n",
      "SVAM l2=0.0409, time =0.0112\n"
     ]
    }
   ],
   "source": [
    "#------------SVAM-ME-------------#\n",
    "cross_validation=True\n",
    "\n",
    "if cross_validation:\n",
    "    eta_range = np.linspace( 1.01, 20, 21 )\n",
    "    beta_init_range = np.power( 10.0, [-2, -1, 0, 1, 2] )\n",
    "    alpha_range = np.linspace( alpha, alpha, 1 )\n",
    "    # SVAM does not itself use alpha as a hyperparameter in the algorithm\n",
    "    # but does need it to perform cross-validation since the validation sets\n",
    "    # are also corrupted. \n",
    "    param_grid = dict( eta = eta_range, beta_init = beta_init_range, alpha = alpha_range )\n",
    "    cv = ShuffleSplit( n_splits = 1, test_size = 0.3, random_state = 42 )\n",
    "    grid = GridSearchCV( SVAM_ME( mu_init =mu_adv, mu_star = mu_star ), param_grid=param_grid, cv = cv, refit = False )\n",
    "    grid.fit( X)\n",
    "    best = grid.best_params_\n",
    "    print(\"The best parameters for SVAM are %s with a score of %0.2f\" % (grid.best_params_, grid.best_score_))\n",
    "    svam = SVAM_ME( eta = best[\"eta\"], alpha = best[\"alpha\"], beta_init = best['beta_init'], mu_init = mu_adv, mu_star = mu_star )\n",
    "else:\n",
    "    svam = SVAM_ME( eta = 10, alpha = alpha, beta_init = 0.01, mu_init = mu_adv, mu_star = mu_star )\n",
    "\n",
    "svam.fit( X, max_iter=25)\n",
    "l2_svam = svam.l2\n",
    "clock_svam = svam.clock\n",
    "\n",
    "print(f'SVAM l2={l2_svam[-1]:.4f}, time ={clock_svam[-1]:.4f}')"
   ]
  },
  {
   "cell_type": "code",
   "execution_count": 6,
   "metadata": {},
   "outputs": [
    {
     "data": {
      "image/png": "[encoded data removed]",
      "text/plain": [
       "<Figure size 640x480 with 1 Axes>"
      ]
     },
     "metadata": {},
     "output_type": "display_data"
    }
   ],
   "source": [
    "import numpy as np\n",
    "import matplotlib.pyplot as plt\n",
    "plt.rcParams['pdf.fonttype'] = 42\n",
    "plt.rcParams['ps.fonttype'] = 42\n",
    "\n",
    "file_name='robust_mean'\n",
    "\n",
    "plt.plot(clock_sm,l2_sm,marker='^',color='red',markersize='12',label = 'mean')\n",
    "plt.plot(clock_oracle,l2_oracle,marker='*',color='green',markersize='12',label = 'oracle')\n",
    "plt.plot(clock_cm,l2_cm,marker='p',color='brown',markersize='12',label = 'C-Median')\n",
    "\n",
    "plt.plot(clock_vam[0,:], l2_vam[0,:], label = 'VAM, beta={}'.format(str(betas[0])),color='0.5',linewidth=4)\n",
    "plt.plot(clock_vam[1,:], l2_vam[1,:], label = 'VAM, beta={}'.format(str(betas[1])),color='0.3',linewidth=4)\n",
    "plt.plot(clock_vam[2,:], l2_vam[2,:], label = 'VAM, beta={}'.format(str(betas[2])),color='0.1',linewidth=4)\n",
    "\n",
    "plt.plot(clock_svam, l2_svam, label = 'SVAM-RM', color='blue',linewidth=4)\n",
    "\n",
    "clock_vam[2,0]=clock_sm\n",
    "plt.plot(clock_vam[2,:], np.ones(max_iter)*l2_sm, ls='--', color='red',linewidth=4)\n",
    "    \n",
    "clock_vam[2,0]=clock_oracle\n",
    "plt.plot(clock_vam[2,:], np.ones(max_iter)*l2_oracle, ls='--', color='green',linewidth=4)\n",
    "\n",
    "\n",
    "clock_vam[2,0]=clock_cm\n",
    "plt.plot(clock_vam[2,:], np.ones(max_iter)*l2_cm, ls='--', color='brown',linewidth=4)\n",
    "\n",
    "plt.yscale('log')\n",
    "\n",
    "plt.legend(prop = {'size': 12},loc='upper right')\n",
    "plt.xlabel('Time in sec')\n",
    "plt.ylabel('$||\\mu-\\mu^*||_2$')\n",
    "plt.title('n='+str(n)+' d='+str(d)+' alpha='+str(alpha))\n",
    "plt.grid()\n",
    "#plt.savefig(file_name+'.pdf')\n",
    "plt.show()"
   ]
  }
 ],
 "metadata": {
  "kernelspec": {
   "display_name": "Python 3 (ipykernel)",
   "language": "python",
   "name": "python3"
  },
  "language_info": {
   "codemirror_mode": {
    "name": "ipython",
    "version": 3
   },
   "file_extension": ".py",
   "mimetype": "text/x-python",
   "name": "python",
   "nbconvert_exporter": "python",
   "pygments_lexer": "ipython3",
   "version": "3.10.12"
  }
 },
 "nbformat": 4,
 "nbformat_minor": 4
}
