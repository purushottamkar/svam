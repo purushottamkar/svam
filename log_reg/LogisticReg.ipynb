{
 "cells": [
  {
   "cell_type": "code",
   "execution_count": 2,
   "metadata": {},
   "outputs": [],
   "source": [
    "import numpy as np\n",
    "import statsmodels.api as sm\n",
    "import matplotlib.pyplot as plt\n",
    "import time\n",
    "\n",
    "from scipy.sparse.linalg import eigsh\n",
    "from sklearn.base import BaseEstimator\n",
    "from sklearn import linear_model"
   ]
  },
  {
   "cell_type": "code",
   "execution_count": 3,
   "metadata": {},
   "outputs": [
    {
     "name": "stdout",
     "output_type": "stream",
     "text": [
      "Running with corruption but no-noise.\n"
     ]
    }
   ],
   "source": [
    "# Data Preparation\n",
    "n=1000\n",
    "d=10\n",
    "alpha = 0.3\n",
    "\n",
    "\n",
    "n_corr  = int(alpha*n)\n",
    "\n",
    "Idx= np.random.permutation(n)\n",
    "corrIdx= np.sort(Idx[0:n_corr])\n",
    "cleanIdx=np.sort(Idx[n_corr:n])\n",
    "\n",
    "\n",
    "\n",
    "X = np.random.normal(0,1, (n, d))/np.sqrt(d)\n",
    "\n",
    "\n",
    "w_star= np.random.normal(0,1, (d, 1))\n",
    "w_star = w_star / np.linalg.norm(w_star)\n",
    "\n",
    "w_adv= np.random.normal(0,1, (d, 1))\n",
    "w_adv -= np.dot(w_adv.transpose(),w_star)*w_star\n",
    "w_adv = w_adv / np.linalg.norm(w_adv)\n",
    "\n",
    "eta=np.zeros(shape=(n,1))\n",
    "eta[cleanIdx] = np.dot(X[cleanIdx,:], w_star)\n",
    "eta[corrIdx] = np.dot(X[corrIdx,:], w_adv)\n",
    "\n",
    "\n",
    "print(\"Running with corruption but no-noise.\")\n",
    "y=(eta>0)*1\n",
    "\n",
    "corrIdx_true=[]\n",
    "\n",
    "for idx in corrIdx:\n",
    "    if y[idx]!=(np.dot(X[idx,:], w_star)>0)*1:\n",
    "        corrIdx_true.append(idx)\n",
    "        \n",
    "corrIdx_true=np.array(corrIdx_true)\n",
    "true_corr_frac = len(corrIdx_true)/n\n",
    "cleanIdx_true=np.append(cleanIdx, np.setdiff1d(corrIdx,corrIdx_true))        \n",
    "w_init=w_adv"
   ]
  },
  {
   "cell_type": "code",
   "execution_count": 4,
   "metadata": {},
   "outputs": [
    {
     "data": {
      "text/plain": [
       "(143, 300, 700, 857, (1000, 1))"
      ]
     },
     "execution_count": 4,
     "metadata": {},
     "output_type": "execute_result"
    }
   ],
   "source": [
    "len(corrIdx_true), len(corrIdx), len(cleanIdx), len(cleanIdx_true), y.shape"
   ]
  },
  {
   "cell_type": "code",
   "execution_count": 5,
   "metadata": {},
   "outputs": [],
   "source": [
    "class SVAM_LR(BaseEstimator):\n",
    "# w_star is used only to plot convergence curves and not tune the method or decide stopping criterion in any way\n",
    "    def __init__( self, beta_init = 0.01 , eta = 1.1, w_init = None, w_star = None ):\n",
    "        self.eta = eta\n",
    "        self.alpha = alpha\n",
    "        self.beta_init = beta_init\n",
    "        self.w_init = w_init\n",
    "        self.w_star = w_star\n",
    "\n",
    "    def fit( self, X, y, beta_max=1, max_iter = 500, max_iter_inner = 5 ):\n",
    "        start_time=time.time()\n",
    "        n, d = X.shape\n",
    "        beta = self.beta_init\n",
    "        self.w = self.w_init\n",
    "        self.l2=[]\n",
    "        self.clock=[]\n",
    "        itr=0         \n",
    "        clf=linear_model.LogisticRegression(solver='newton-cg',max_iter=100, penalty=None,warm_start=True)\n",
    "        while itr < max_iter:\n",
    "            for _ in range(max_iter_inner):\n",
    "                temp=np.dot(X,self.w)\n",
    "                pi=np.zeros(shape=(n,1))\n",
    "                pi[temp>100]=1\n",
    "                pi[temp<-100]=0\n",
    "                idx = (temp <= 100) & (temp >= -100)\n",
    "                pi[idx] = 1/(1+np.exp(-temp[idx]))\n",
    "\n",
    "                p=np.power(pi,beta)/(np.power(pi,beta)+np.power(1-pi,beta))\n",
    "                s=p*y+(1-p)*(1-y)\n",
    "                clf.fit(X,y.ravel(),sample_weight=s.ravel())\n",
    "                self.w=clf.coef_.transpose()\n",
    "                self.l2.append(np.linalg.norm(self.w/np.linalg.norm(self.w)-w_star))\n",
    "                self.clock.append(time.time()-start_time)\n",
    "            itr=itr+max_iter_inner\n",
    "            beta=min(beta_max,self.eta*beta)\n",
    "        return self\n",
    "\n",
    "    def predict( self, X ):\n",
    "        return (np.dot( X, self.w ) > 0)*1\n",
    "\n",
    "    def score( self, X, y ):\n",
    "        n_test = X.shape[0]\n",
    "        return -np.linalg.norm(y - self.predict(X), 2) / np.sqrt( n_test )    "
   ]
  },
  {
   "cell_type": "code",
   "execution_count": 6,
   "metadata": {},
   "outputs": [
    {
     "name": "stdout",
     "output_type": "stream",
     "text": [
      "The best parameters for SVAM are {'beta_init': np.float64(0.01), 'eta': np.float64(1.635263157894737)} with a score of -0.42\n",
      "SVAM_LR:  0.09822918405873302 Time taken:  7.196512699127197\n"
     ]
    }
   ],
   "source": [
    "#------------SVAM-LR--------------#\n",
    "\n",
    "from sklearn.model_selection import ShuffleSplit\n",
    "from sklearn.model_selection import GridSearchCV\n",
    "\n",
    "cross_validation=True\n",
    "if cross_validation:\n",
    "    eta_range = np.linspace( 1.01, 2, 20 )\n",
    "    beta_init_range = np.power( 10.0, [-2, -1] )\n",
    "    \n",
    "    param_grid = dict( beta_init = beta_init_range, eta = eta_range)\n",
    "    cv = ShuffleSplit( n_splits = 1, test_size = 0.3, random_state = 42 )\n",
    "    grid = GridSearchCV( SVAM_LR( w_init = w_adv, w_star = w_star ), param_grid=param_grid, cv = cv, refit = False )\n",
    "    grid.fit( X, y )\n",
    "    best = grid.best_params_\n",
    "    print(\"The best parameters for SVAM are %s with a score of %0.2f\" % (grid.best_params_, grid.best_score_))\n",
    "    svam = SVAM_LR( beta_init = best['beta_init'], eta = best[\"eta\"], w_init = w_adv, w_star = w_star )\n",
    "else:\n",
    "    svam = SVAM_LR( beta_init = 0.01, eta = 1.1, w_init = w_adv, w_star = w_star )\n",
    "\n",
    "svam.fit( X, y,  max_iter = 2500)\n",
    "l2_svam = svam.l2\n",
    "clock_svam = svam.clock\n",
    "print('SVAM_LR: ',l2_svam[-1],'Time taken: ',clock_svam[-1])"
   ]
  },
  {
   "cell_type": "code",
   "execution_count": 7,
   "metadata": {},
   "outputs": [
    {
     "name": "stdout",
     "output_type": "stream",
     "text": [
      "VAM_LR:  0.3730205035943806 Time taken:  7.243619203567505\n",
      "VAM_LR:  0.11007195481346164 Time taken:  7.137365818023682\n",
      "VAM_LR:  1.1138820899639985 Time taken:  9.844353437423706\n"
     ]
    }
   ],
   "source": [
    "#------------VAM-LR------------#\n",
    "betas=[0.01,1,10]\n",
    "\n",
    "vam = SVAM_LR( beta_init = betas[0] , eta = 1, w_init = w_adv, w_star = w_star )\n",
    "vam.fit( X, y,  max_iter = 2500)\n",
    "l2_vam_0 = vam.l2\n",
    "clock_vam_0 = vam.clock\n",
    "print('VAM_LR: ',l2_vam_0[-1],'Time taken: ',clock_vam_0[-1])\n",
    "\n",
    "\n",
    "vam = SVAM_LR( beta_init = betas[1] , eta = 1, w_init = w_adv, w_star = w_star )\n",
    "vam.fit( X, y,  max_iter = 2500)\n",
    "l2_vam_1 = vam.l2\n",
    "clock_vam_1 = vam.clock\n",
    "print('VAM_LR: ',l2_vam_1[-1],'Time taken: ',clock_vam_1[-1])\n",
    "\n",
    "vam = SVAM_LR( beta_init = betas[2] , eta = 1, w_init = w_adv, w_star = w_star )\n",
    "vam.fit( X, y,  max_iter = 2500)\n",
    "l2_vam_2 = vam.l2\n",
    "clock_vam_2 = vam.clock\n",
    "print('VAM_LR: ',l2_vam_2[-1],'Time taken: ',clock_vam_2[-1])"
   ]
  },
  {
   "cell_type": "code",
   "execution_count": 8,
   "metadata": {},
   "outputs": [
    {
     "name": "stdout",
     "output_type": "stream",
     "text": [
      "Logistic Regression:  0.423894072011241 Time taken:  0.010315656661987305\n"
     ]
    }
   ],
   "source": [
    "#---------Logistic Regression---------#\n",
    "\n",
    "start=time.time()\n",
    "clf=linear_model.SGDClassifier(loss='log_loss',max_iter=1000, penalty=None)\n",
    "clf.fit(X,y.ravel())\n",
    "clf.get_params()\n",
    "w1=clf.coef_\n",
    "w1=w1/np.linalg.norm(w1)\n",
    "end=time.time()\n",
    "clock_logistic=end-start\n",
    "l2_logistic=np.linalg.norm(w1.transpose()-w_star)\n",
    "print('Logistic Regression: ',l2_logistic, 'Time taken: ',clock_logistic)"
   ]
  },
  {
   "cell_type": "code",
   "execution_count": 9,
   "metadata": {},
   "outputs": [
    {
     "name": "stdout",
     "output_type": "stream",
     "text": [
      "Logistic Regression:  0.423894072011241 Time taken:  0.010315656661987305\n"
     ]
    }
   ],
   "source": [
    "#---------Oracle---------#\n",
    "\n",
    "start=time.time()\n",
    "clf=linear_model.SGDClassifier(loss='log_loss',max_iter=1000, penalty=None)\n",
    "clf.fit(X[cleanIdx],y[cleanIdx].ravel())\n",
    "clf.get_params()\n",
    "w1=clf.coef_\n",
    "w1=w1/np.linalg.norm(w1)\n",
    "end=time.time()\n",
    "clock_oracle=end-start\n",
    "l2_oracle=np.linalg.norm(w1.transpose()-w_star)\n",
    "print('Logistic Regression: ',l2_logistic, 'Time taken: ',clock_logistic)"
   ]
  },
  {
   "cell_type": "code",
   "execution_count": 10,
   "metadata": {},
   "outputs": [
    {
     "data": {
      "text/plain": [
       "Text(0.5, 1.0, 'n=1000 d=10 alpha=0.143')"
      ]
     },
     "execution_count": 10,
     "metadata": {},
     "output_type": "execute_result"
    },
    {
     "data": {
      "image/png": "[encoded data removed]",
      "text/plain": [
       "<Figure size 640x480 with 1 Axes>"
      ]
     },
     "metadata": {},
     "output_type": "display_data"
    }
   ],
   "source": [
    "import matplotlib.pyplot as plt\n",
    "import numpy as np\n",
    "\n",
    "n=1000\n",
    "d=10\n",
    "alpha=0.3\n",
    "file_name='logistic_no_noise'\n",
    "\n",
    "plt.semilogy(clock_vam_0, l2_vam_0, label = 'VAM, beta={}'.format(str(betas[0])),marker=',',markersize='8',linewidth=4,color='0.5')\n",
    "plt.semilogy(clock_vam_1, l2_vam_1, label = 'VAM, beta={}'.format(str(betas[1])),marker=',',markersize='8',linewidth=4,color='0.3')\n",
    "plt.semilogy(clock_vam_2, l2_vam_2, label = 'VAM, beta={}'.format(str(betas[2])),marker=',',markersize='8',linewidth=4,color='0.1')\n",
    "\n",
    "\n",
    "plt.semilogy(clock_svam, l2_svam, label = 'SVAM-LR',marker=',', color='blue',markersize='8',linewidth=4)\n",
    "\n",
    "\n",
    "clock_svam[0]=clock_logistic\n",
    "plt.semilogy(clock_logistic,l2_logistic,marker='^',color='red',markersize='12',label = 'LR')\n",
    "plt.semilogy(clock_svam, np.ones(len(clock_svam))*l2_logistic,ls='--', linewidth=4,color='red')\n",
    "\n",
    "clock_svam[0]=clock_logistic\n",
    "plt.semilogy(clock_oracle,l2_oracle,marker='*',color='green',markersize='12',label = 'Oracle')\n",
    "plt.semilogy(clock_svam, np.ones(len(clock_svam))*l2_oracle,ls='--', linewidth=4,color='green')\n",
    "\n",
    "plt.legend(prop = {'size': 12},loc='lower right')\n",
    "plt.xlabel('Time in sec')\n",
    "plt.ylabel('$||w-w^*||_2$')\n",
    "plt.grid()\n",
    "plt.title('n='+str(n)+' d='+str(d)+' alpha='+str(true_corr_frac))\n",
    "#plt.savefig(file_name+'.pdf')"
   ]
  },
  {
   "cell_type": "code",
   "execution_count": null,
   "metadata": {},
   "outputs": [],
   "source": []
  }
 ],
 "metadata": {
  "kernelspec": {
   "display_name": "Python 3 (ipykernel)",
   "language": "python",
   "name": "python3"
  },
  "language_info": {
   "codemirror_mode": {
    "name": "ipython",
    "version": 3
   },
   "file_extension": ".py",
   "mimetype": "text/x-python",
   "name": "python",
   "nbconvert_exporter": "python",
   "pygments_lexer": "ipython3",
   "version": "3.10.12"
  }
 },
 "nbformat": 4,
 "nbformat_minor": 4
}
